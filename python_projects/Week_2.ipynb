{
 "cells": [
  {
   "cell_type": "markdown",
   "id": "247964f1",
   "metadata": {},
   "source": [
    "## Weeek_02"
   ]
  },
  {
   "cell_type": "code",
   "execution_count": 7,
   "id": "e28503d0",
   "metadata": {},
   "outputs": [
    {
     "name": "stdout",
     "output_type": "stream",
     "text": [
      "my name is maxwel i am 10 years old\n",
      "aw\n"
     ]
    }
   ],
   "source": [
    "# Using format()\n",
    "\n",
    "name = 'maxwel'\n",
    "age = 10\n",
    "\n",
    "print (\"my name is {} i am {} years old\".format(name, age))\n",
    "\n",
    "# list_object[start, end, step]\n",
    "name2 = \"Ocean\"\n",
    "print(name[1: 4: 2])\n",
    "\n"
   ]
  },
  {
   "cell_type": "code",
   "execution_count": 4,
   "id": "c95dce43",
   "metadata": {},
   "outputs": [
    {
     "name": "stdout",
     "output_type": "stream",
     "text": [
      "wel\n"
     ]
    }
   ],
   "source": [
    "# Slice the first and the last letter\n",
    "\n",
    "name = \"well\"\n",
    "\n",
    "print(name[0:3])"
   ]
  },
  {
   "cell_type": "markdown",
   "id": "1f2bbccb",
   "metadata": {},
   "source": [
    "### String methods"
   ]
  },
  {
   "cell_type": "code",
   "execution_count": 6,
   "id": "4e1e4f4f",
   "metadata": {},
   "outputs": [],
   "source": [
    "# split()\n",
    "# strip()\n",
    "# title()\n",
    "# find()"
   ]
  },
  {
   "cell_type": "markdown",
   "id": "9817d0cc",
   "metadata": {},
   "source": [
    "## Friday project: printing a reciept"
   ]
  },
  {
   "cell_type": "code",
   "execution_count": 3,
   "id": "a99453fd",
   "metadata": {},
   "outputs": [
    {
     "name": "stdout",
     "output_type": "stream",
     "text": [
      "**************************************************\n",
      "*\t\tAfri World, Inc.*\n",
      "*\t\t128 Franklin St.*\n",
      "*\t\tNairobi, Konza City*\n",
      "==================================================\n",
      "*\tProduct Name \t Product Price \n",
      "*\n",
      "*\tBooks\t\tKsh 49.95*\n",
      "*\tComputer\tKsh 579.99*\n",
      "*\tMonitor\t\tKsh 124.89\t*\n",
      "==================================================\n",
      "*\t\t\tTotal\t\t\t*\n",
      "*\t\t\t754.83\t\t*\n",
      "==================================================\n",
      "*\tThankyou for shopping with us!\n",
      "\t*\n",
      "**************************************************\n",
      "+----------------------------------------------------+\n",
      "| ================================================== |\n",
      "|         Afri World, Inc.                           |\n",
      "|         128 Franklin St.                           |\n",
      "|         Nairobi, Konza City                        |\n",
      "| ================================================== |\n",
      "|         Product Name          Product Price        |\n",
      "|         Books                Ksh 49.95             |\n",
      "+----------------------------------------------------+\n"
     ]
    }
   ],
   "source": [
    "from tabulate import tabulate\n",
    "## creat a product and price for three items\n",
    "p1_name, p1_price = \"Books\", 49.95\n",
    "p2_name, p2_price = \"computer\", 579.99\n",
    "p3_name, p3_price = \"Monitor\", 124.89\n",
    "\n",
    "#create a company name and information\n",
    "company_name = \"Afri World, inc.\"\n",
    "company_address = \"128 Franklin St.\"\n",
    "company_city = \"Nairobi, Konza City\"\n",
    "\n",
    "# Declare ending message\n",
    "message = \"Thanks for shopping with us!\"\n",
    "\n",
    "# Create a top border \n",
    "print(\"*\" * 50)\n",
    "\n",
    "# Print company information first, using format\n",
    "print(\"*\\t\\t{}*\".format(company_name.title()))\n",
    "print(\"*\\t\\t{}*\".format(company_address))\n",
    "print(\"*\\t\\t{}*\".format(company_city))\n",
    "\n",
    "# print line between sections\n",
    "print(\"=\" * 50)\n",
    "\n",
    "# print out header for section of items\n",
    "print(\"*\\tProduct Name \\t Product Price \\n*\")\n",
    "\n",
    "# create a print statement for each product\n",
    "print(\"*\\t{}\\t\\tKsh {}*\".format(p1_name.title(), p1_price))\n",
    "print(\"*\\t{}\\tKsh {}*\".format(p2_name.title(), p2_price))\n",
    "print(\"*\\t{}\\t\\tKsh {}\\t*\".format(p3_name.title(), p3_price))\n",
    "\n",
    "# print line between sections\n",
    "print(\"=\" * 50)\n",
    "\n",
    "# print total\n",
    "print(\"*\\t\\t\\tTotal\\t\\t\\t*\")\n",
    "total = p1_price + p2_price+p3_price\n",
    "print(\"*\\t\\t\\t{}\\t\\t*\".format(total))\n",
    "\n",
    "# Create a top border \n",
    "print(\"=\" * 50)\n",
    "\n",
    "print(\"*\\tThankyou for shopping with us!\\n\\t*\")\n",
    "\n",
    "# Create a top border \n",
    "print(\"*\" * 50)\n",
    "\n",
    "star_line = \"-\" * 50\n",
    "equals_line = \"=\" * 50\n",
    "tab = \"        \"\n",
    "tab2 = \"    \"\n",
    "\n",
    "rece = f\"\"\"\n",
    "{equals_line}\n",
    "{tab}{company_name.title()} \n",
    "{tab}{company_address}\n",
    "{tab}{company_city}\n",
    "{equals_line}\n",
    "{tab}Product Name {tab} Product Price \n",
    "{tab}{p1_name.title()}{tab}{tab}Ksh {p1_price}\n",
    "\"\"\"\n",
    "table = [[rece]]\n",
    "output = tabulate(table, tablefmt='grid')\n",
    "\n",
    "print(output)"
   ]
  },
  {
   "cell_type": "markdown",
   "id": "900790d8",
   "metadata": {},
   "source": [
    "## Tabulate module\n",
    "> what the hell"
   ]
  },
  {
   "cell_type": "code",
   "execution_count": 1,
   "id": "b3ee3bd2",
   "metadata": {
    "scrolled": true
   },
   "outputs": [
    {
     "name": "stdout",
     "output_type": "stream",
     "text": [
      "+------------+\n",
      "| What is a  |\n",
      "|            |\n",
      "| ocean      |\n",
      "| for sale   |\n",
      "+------------+\n"
     ]
    }
   ],
   "source": [
    "from tabulate import tabulate\n",
    "name=\"ocean\"\n",
    "\n",
    "text = \"\"\"\n",
    "What is a \n",
    "\n",
    "{}\n",
    "for sale\n",
    "\"\"\".format(name)\n",
    "\n",
    "table=[[text]]\n",
    "output = tabulate(table, tablefmt='grid')\n",
    "print(output)"
   ]
  },
  {
   "cell_type": "markdown",
   "id": "184a9fea",
   "metadata": {},
   "source": [
    "## Practice questions"
   ]
  },
  {
   "cell_type": "code",
   "execution_count": 4,
   "id": "8a38b105",
   "metadata": {},
   "outputs": [
    {
     "name": "stdout",
     "output_type": "stream",
     "text": [
      "xam\n",
      "['max', 'dick', 'harry']\n"
     ]
    }
   ],
   "source": [
    "# Reverse a string using slice\n",
    "name = \"max\"\n",
    "\n",
    "print(name[::-1])\n",
    "\n",
    "names = ['max', 'dick', 'harry']\n",
    "print(names)"
   ]
  },
  {
   "cell_type": "code",
   "execution_count": 14,
   "id": "b03c1078",
   "metadata": {},
   "outputs": [
    {
     "name": "stdout",
     "output_type": "stream",
     "text": [
      "['mark', 'jonathan', 'andrew', 'not_ptya']\t\t Mark, Jonathan and 2 others --> likes this\n"
     ]
    }
   ],
   "source": [
    "def likes(names):\n",
    "    # your code here\n",
    "    number_of_people = len(names)\n",
    "    response = ''\n",
    "    \n",
    "    if number_of_people < 1:\n",
    "        response = \"[]\\t\\t\\t--> no one likes this\"\n",
    "    elif number_of_people == 1:\n",
    "        response = f\"{names}\\t\\t {names[0].title()}--> likes this\"\n",
    "    elif number_of_people == 2:\n",
    "        response = f\"{names}\\t\\t {names[0].title()} and {names[1].title()} --> likes this\"\n",
    "    elif number_of_people == 3:\n",
    "        response = f\"{names}\\t\\t {names[0].title()}, {names[1].title()} and { names[2].title()} --> like this\"\n",
    "    else:\n",
    "        response = f\"{names}\\t\\t {names[0].title()}, {names[1].title()} and {number_of_people - 2} others --> likes this\"\n",
    "    \n",
    "    return response\n",
    "        \n",
    "print(likes([\"mark\", \"jonathan\", \"andrew\", \"not_ptya\"]))\n",
    "    \n",
    "        "
   ]
  },
  {
   "cell_type": "code",
   "execution_count": null,
   "id": "77b5048f",
   "metadata": {},
   "outputs": [],
   "source": []
  }
 ],
 "metadata": {
  "kernelspec": {
   "display_name": "Python 3 (ipykernel)",
   "language": "python",
   "name": "python3"
  },
  "language_info": {
   "codemirror_mode": {
    "name": "ipython",
    "version": 3
   },
   "file_extension": ".py",
   "mimetype": "text/x-python",
   "name": "python",
   "nbconvert_exporter": "python",
   "pygments_lexer": "ipython3",
   "version": "3.9.13"
  }
 },
 "nbformat": 4,
 "nbformat_minor": 5
}
