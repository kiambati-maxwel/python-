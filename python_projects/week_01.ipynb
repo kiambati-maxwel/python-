{
 "cells": [
  {
   "cell_type": "markdown",
   "id": "43e831ea",
   "metadata": {},
   "source": [
    "## Week One"
   ]
  },
  {
   "cell_type": "code",
   "execution_count": 3,
   "id": "250895f3",
   "metadata": {
    "scrolled": true
   },
   "outputs": [
    {
     "name": "stdout",
     "output_type": "stream",
     "text": [
      "today is on teusday\n"
     ]
    }
   ],
   "source": [
    "print('today is on teusday')"
   ]
  },
  {
   "cell_type": "markdown",
   "id": "65dc3286",
   "metadata": {},
   "source": [
    "## Guess game 1st program"
   ]
  },
  {
   "cell_type": "code",
   "execution_count": null,
   "id": "d2eb82dc",
   "metadata": {},
   "outputs": [],
   "source": [
    "from random import randint\n",
    "from IPython.display import clear_output\n",
    "\n",
    "guessed = False\n",
    "number = randint(0, 100)\n",
    "\n",
    "guesses = 0\n",
    "while not guessed:\n",
    "    ans = input(\"Guess a number Oria!!\")\n",
    "    \n",
    "    guesses += 1\n",
    "    clear_output()\n",
    "    if int(ans) == number:\n",
    "        print(\"Wowhoo! you gat it right \\n\")\n",
    "        print(f\"It took {guesses} guesses to guess the number\")\n",
    "    if int(ans) > number:\n",
    "        print('The number is less than the one you guessed')\n",
    "    if int(ans) < number:\n",
    "        print('the number is greater than the one you guessed')\n",
    "    "
   ]
  },
  {
   "cell_type": "code",
   "execution_count": null,
   "id": "5808776c",
   "metadata": {},
   "outputs": [],
   "source": []
  }
 ],
 "metadata": {
  "kernelspec": {
   "display_name": "Python 3 (ipykernel)",
   "language": "python",
   "name": "python3"
  },
  "language_info": {
   "codemirror_mode": {
    "name": "ipython",
    "version": 3
   },
   "file_extension": ".py",
   "mimetype": "text/x-python",
   "name": "python",
   "nbconvert_exporter": "python",
   "pygments_lexer": "ipython3",
   "version": "3.9.13"
  }
 },
 "nbformat": 4,
 "nbformat_minor": 5
}
