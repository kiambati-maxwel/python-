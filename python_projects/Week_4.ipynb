{
 "cells": [
  {
   "cell_type": "markdown",
   "id": "a4a423f9",
   "metadata": {},
   "source": [
    "# Lists and Loops"
   ]
  },
  {
   "cell_type": "markdown",
   "id": "9f5e9f75",
   "metadata": {},
   "source": [
    "List is a data collection type"
   ]
  },
  {
   "cell_type": "code",
   "execution_count": 1,
   "id": "6c618db2",
   "metadata": {},
   "outputs": [
    {
     "name": "stdout",
     "output_type": "stream",
     "text": [
      "b\n"
     ]
    }
   ],
   "source": [
    "# Multiindexing for data types that can be indexed like strings\n",
    "\n",
    "lis = [5, 'book', 34]\n",
    "\n",
    "print(lis[1][0])"
   ]
  },
  {
   "cell_type": "markdown",
   "id": "8104f83a",
   "metadata": {},
   "source": [
    "### Variable storage in memory"
   ]
  },
  {
   "cell_type": "code",
   "execution_count": 5,
   "id": "4e1484a8",
   "metadata": {},
   "outputs": [
    {
     "name": "stdout",
     "output_type": "stream",
     "text": [
      "139968152756160\n",
      "139968152756160\n",
      "139968152762560 \n",
      "139968152762304\n"
     ]
    }
   ],
   "source": [
    "# Check the location id of a variable in memory\n",
    "\n",
    "a = [5, 6]\n",
    "print(id(a))\n",
    "\n",
    "# what happens when you change the variable through index notation\n",
    "b = a\n",
    "\n",
    "print(id(b))\n",
    "\n",
    "# Copying a list\n",
    "\n",
    "data = [5,7,9,10]\n",
    "data_copy = data[:]\n",
    "\n",
    "print(f'{id(data)} \\n{id(data_copy)}')"
   ]
  },
  {
   "cell_type": "code",
   "execution_count": 8,
   "id": "4c1768c0",
   "metadata": {},
   "outputs": [
    {
     "name": "stdout",
     "output_type": "stream",
     "text": [
      "2\n",
      "4\n",
      "6\n",
      "8\n",
      "0\n",
      "1\n",
      "2\n"
     ]
    }
   ],
   "source": [
    "# Loops for n in range(start, stop, step)\n",
    "\n",
    "for num in range(2, 10, 2):\n",
    "    print(num)\n",
    "    \n",
    "# Break vs Continue (break exits the loop completely) while\n",
    "# Continue stops where it meets the key word and goes back to the top\n",
    "\n",
    "for num in range(5):\n",
    "    if num == 3:\n",
    "        break # replace with continue and the system will go back to the starting of the loop\n",
    "    print(num)"
   ]
  },
  {
   "cell_type": "code",
   "execution_count": 1,
   "id": "7045d051",
   "metadata": {},
   "outputs": [],
   "source": [
    "# Pass statement\n",
    "# The pass statement is just a placeholder so that the program\n",
    "# doesn't break\n",
    "\n",
    "for n in range(6):\n",
    "    pass"
   ]
  },
  {
   "cell_type": "code",
   "execution_count": 3,
   "id": "c73f2ff0",
   "metadata": {},
   "outputs": [
    {
     "name": "stdout",
     "output_type": "stream",
     "text": [
      "3\n",
      "6\n",
      "9\n",
      "12\n",
      "15\n",
      "18\n",
      "21\n",
      "24\n",
      "27\n",
      "30\n",
      "33\n",
      "36\n",
      "39\n",
      "42\n",
      "45\n",
      "48\n",
      "51\n",
      "54\n",
      "57\n",
      "60\n",
      "63\n",
      "66\n",
      "69\n",
      "72\n",
      "75\n",
      "78\n",
      "81\n",
      "84\n",
      "87\n",
      "90\n",
      "93\n",
      "96\n",
      "99\n"
     ]
    }
   ],
   "source": [
    "# Divisiblel by three\n",
    "for n in range(1, 100):\n",
    "    if n%3 == 0:\n",
    "        print(n)"
   ]
  },
  {
   "cell_type": "code",
   "execution_count": 5,
   "id": "714103e7",
   "metadata": {},
   "outputs": [
    {
     "name": "stdout",
     "output_type": "stream",
     "text": [
      "Please enter a word :what the hell\n",
      "a\n",
      "e\n",
      "e\n"
     ]
    }
   ],
   "source": [
    "# output vowels\n",
    "\n",
    "word = input(\"Please enter a word :\")\n",
    "vowels = ['a', 'e', 'i', 'o', 'u']\n",
    "\n",
    "\n",
    "for letter in word:\n",
    "    if letter in vowels:\n",
    "        print(letter)\n",
    "    "
   ]
  },
  {
   "cell_type": "markdown",
   "id": "dadcb352",
   "metadata": {},
   "source": [
    "## Hangman Game "
   ]
  },
  {
   "cell_type": "code",
   "execution_count": null,
   "id": "4273ce71",
   "metadata": {},
   "outputs": [
    {
     "name": "stdout",
     "output_type": "stream",
     "text": [
      "Incorrect, you lost a life.\n",
      "Your guessed letters: ['od', 'd']\n",
      "Word to guess: p _ p _ _\n",
      "Lives: 5\n"
     ]
    }
   ],
   "source": [
    "# import additional functions\n",
    "from random import choice\n",
    "from IPython.display import clear_output\n",
    "\n",
    "# declare game variables\n",
    "words = [\"tree\", \"basket\", \"chair\", \"paper\", \"python\"]\n",
    "word = choice(words)\n",
    "print(word)\n",
    "guessed, lives, game_over = [], 7, False\n",
    "\n",
    "# create a list of underscores to the length of the word\n",
    "guesses = [\"_\"] * len(word)\n",
    "\n",
    "# create main game loop\n",
    "while not game_over:\n",
    "    # output game information\n",
    "    hidden_word = \" \".join(guesses)\n",
    "    print(f\"Your guessed letters: {guessed}\" )\n",
    "    print(f\"Word to guess: {hidden_word}\")\n",
    "    print(f\"Lives: {lives}\")\n",
    "    \n",
    "    ans = input(\"Type quit or guess a letter: \").lower()\n",
    "    clear_output()\n",
    "    \n",
    "    if ans == \"quit\":\n",
    "        print(\"Thanks for playing\")\n",
    "        game_over = True\n",
    "    elif ans in word:\n",
    "        print(\"You guessed correctlly!\")\n",
    "        \n",
    "        # create a loop to change underscore to proper letter\n",
    "        for i in range(len(word)):\n",
    "            if word[i] == ans:\n",
    "                guesses[i] = ans\n",
    "    elif ans in guessed:\n",
    "        print(\"You already guessed that. Try again.\")\n",
    "    else:\n",
    "        lives -= 1\n",
    "        print(\"Incorrect, you lost a life.\")\n",
    "        if ans not in guessed:\n",
    "            guessed.append(ans)\n",
    "        if lives <= 0:\n",
    "            print(\"You lost all your lives, you lost!\")\n",
    "            game_over = True\n",
    "        elif word == \"\".join(guesses):\n",
    "            print(\"Congratulations, you guessed it correctly!\")\n",
    "            game_over = True"
   ]
  },
  {
   "cell_type": "code",
   "execution_count": null,
   "id": "96a685b3",
   "metadata": {},
   "outputs": [],
   "source": []
  },
  {
   "cell_type": "code",
   "execution_count": null,
   "id": "8bf78d81",
   "metadata": {},
   "outputs": [],
   "source": []
  },
  {
   "cell_type": "code",
   "execution_count": null,
   "id": "265ce6e5",
   "metadata": {},
   "outputs": [],
   "source": []
  },
  {
   "cell_type": "code",
   "execution_count": null,
   "id": "753b2ae0",
   "metadata": {},
   "outputs": [],
   "source": []
  }
 ],
 "metadata": {
  "kernelspec": {
   "display_name": "Python 3 (ipykernel)",
   "language": "python",
   "name": "python3"
  },
  "language_info": {
   "codemirror_mode": {
    "name": "ipython",
    "version": 3
   },
   "file_extension": ".py",
   "mimetype": "text/x-python",
   "name": "python",
   "nbconvert_exporter": "python",
   "pygments_lexer": "ipython3",
   "version": "3.9.13"
  }
 },
 "nbformat": 4,
 "nbformat_minor": 5
}
