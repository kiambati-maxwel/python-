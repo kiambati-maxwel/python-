{
 "cells": [
  {
   "cell_type": "markdown",
   "id": "8e055cc6",
   "metadata": {},
   "source": [
    "# User input & type convertion"
   ]
  },
  {
   "cell_type": "code",
   "execution_count": 3,
   "id": "1aa67a39",
   "metadata": {},
   "outputs": [
    {
     "name": "stdout",
     "output_type": "stream",
     "text": [
      "Please enter a number: ij\n",
      "You enterd an invalid number, please try again ...\n",
      "The program did not break!\n"
     ]
    }
   ],
   "source": [
    "from \n",
    "# The try and expect block\n",
    "try:\n",
    "    ans = float(input(\"Please enter a number: \"))\n",
    "    print(f\"100 + {ans} = {100 + ans}\")\n",
    "except:\n",
    "    print(\"You enterd an invalid number, please try again ...\")\n",
    "\n",
    "\n",
    "print(\"The program did break!\")"
   ]
  },
  {
   "cell_type": "code",
   "execution_count": 3,
   "id": "0ed76cc0",
   "metadata": {},
   "outputs": [
    {
     "name": "stdout",
     "output_type": "stream",
     "text": [
      "Yes! it ends with 'ing'\n",
      "\n",
      "The word does not end with ing\n"
     ]
    }
   ],
   "source": [
    "from IPython.display import clear_output\n",
    "# tuesday Challage exercise\n",
    "\n",
    "# Ask user to input a word and check if the last letters are \"ing\"\n",
    "word = input(\"Please enter a word ending with 'ing'\")\n",
    "\n",
    "# Make the output neat\n",
    "clear_output()\n",
    "\n",
    "if 'ing' == word[-3:]:\n",
    "    print(\"Yes! it ends with 'ing'\")\n",
    "print(\"\\nThe word does not end with ing\")"
   ]
  },
  {
   "cell_type": "code",
   "execution_count": 4,
   "id": "ea89a1e0",
   "metadata": {},
   "outputs": [
    {
     "name": "stdout",
     "output_type": "stream",
     "text": [
      "le\n",
      "ab\n",
      "srn\n"
     ]
    }
   ],
   "source": [
    "# slice \n",
    "\n",
    "word = \"personable\"\n",
    "\n",
    "# print the last 2 letters\n",
    "print(word[-2:])\n",
    "\n",
    "# print the 2 values just before the last 2 letters\n",
    "print(word[-4: -2])\n",
    "\n",
    "word2 = \"string\"\n",
    "\n",
    "print(word2[: : 2])\n",
    "\n",
    "# output is 'rn' "
   ]
  },
  {
   "cell_type": "code",
   "execution_count": null,
   "id": "e35350ce",
   "metadata": {},
   "outputs": [],
   "source": []
  }
 ],
 "metadata": {
  "kernelspec": {
   "display_name": "Python 3 (ipykernel)",
   "language": "python",
   "name": "python3"
  },
  "language_info": {
   "codemirror_mode": {
    "name": "ipython",
    "version": 3
   },
   "file_extension": ".py",
   "mimetype": "text/x-python",
   "name": "python",
   "nbconvert_exporter": "python",
   "pygments_lexer": "ipython3",
   "version": "3.9.13"
  }
 },
 "nbformat": 4,
 "nbformat_minor": 5
}
